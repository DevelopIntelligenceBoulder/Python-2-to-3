{
 "cells": [
  {
   "cell_type": "markdown",
   "metadata": {
    "slideshow": {
     "slide_type": "slide"
    }
   },
   "source": [
    "# Migrating from Python 2 to 3 for Developers–Selected Details"
   ]
  },
  {
   "cell_type": "markdown",
   "metadata": {
    "slideshow": {
     "slide_type": "slide"
    }
   },
   "source": [
    "# A bit of history...\n",
    "* Python first released in 1991\n",
    "* Python 2.0 released 2000\n",
    "* Python 3.0 released 2008\n",
    " * backwards incompatible release to fix some issues in Python 2 and add new features\n",
    "* Python 2 was deprecated as of January 1st of this year\n",
    " * bugs may not be fixed\n",
    " * but more importantly, you've been missing out on some great 3.X features\n",
    " * Python 3 comes with a __`2to3`__ tool for converting Python 2 code to Python 3–never do this by hand"
   ]
  },
  {
   "cell_type": "markdown",
   "metadata": {
    "slideshow": {
     "slide_type": "subslide"
    }
   },
   "source": [
    "# From the horse's mouth...\n",
    "\"There are more changes than in a typical release, and more that are important for all Python users. Nevertheless, after digesting the changes, you’ll find that Python really hasn’t changed all that much – by and large, we’re mostly fixing well-known annoyances and warts, and removing a lot of old cruft.\" –Guido van Rossum"
   ]
  },
  {
   "cell_type": "markdown",
   "metadata": {
    "slideshow": {
     "slide_type": "slide"
    }
   },
   "source": [
    "# __`print`__"
   ]
  },
  {
   "cell_type": "markdown",
   "metadata": {
    "slideshow": {
     "slide_type": "subslide"
    }
   },
   "source": [
    "# __`print`__\n",
    "* was a statement in Python 2, now a function\n",
    "* meaning, of course, that we must use parens since we're calling a function\n",
    "* also means we get some nice keyword arguments to control printing"
   ]
  },
  {
   "cell_type": "code",
   "execution_count": null,
   "metadata": {},
   "outputs": [],
   "source": [
    "%%python2\n",
    "import sys\n",
    "print 'Hello,', # trailing comma means no carriage return...ugh\n",
    "print 'World!'\n",
    "print >>sys.stderr, 'This will be pink'"
   ]
  },
  {
   "cell_type": "code",
   "execution_count": null,
   "metadata": {},
   "outputs": [],
   "source": []
  },
  {
   "cell_type": "markdown",
   "metadata": {
    "slideshow": {
     "slide_type": "subslide"
    }
   },
   "source": [
    "### __`print(*objects, sep=' ', end='\\n', file=sys.stdout, flush=False)`__\n",
    "* __`sep=`__ defines the separator character(s) between printed objects\n",
    "* __`end=`__ defines the character(s) that are printed at the end of the line\n",
    "* __`file=`__ defines where the printing occurs\n",
    "* __`flush=`__ determines whether stream is forcibly flushed"
   ]
  },
  {
   "cell_type": "code",
   "execution_count": null,
   "metadata": {},
   "outputs": [],
   "source": [
    "%%python2\n",
    "from __future__ import print_function"
   ]
  },
  {
   "cell_type": "markdown",
   "metadata": {
    "slideshow": {
     "slide_type": "slide"
    }
   },
   "source": [
    "# Formatted Printing"
   ]
  },
  {
   "cell_type": "markdown",
   "metadata": {
    "slideshow": {
     "slide_type": "subslide"
    }
   },
   "source": [
    "# Formatted Printing\n",
    "* Python 2 used the print formatting operator __`%`__\n",
    " * originally it was going to be deprecated (see https://docs.python.org/3/whatsnew/3.0.html) but it's still in Python 3.8 and there's no indication it will be removed"
   ]
  },
  {
   "cell_type": "code",
   "execution_count": null,
   "metadata": {},
   "outputs": [],
   "source": [
    "%%python2\n",
    "x = 5\n",
    "s = 'Python'\n",
    "print('An integer (%d) and a string (%s)' % (x, s))"
   ]
  },
  {
   "cell_type": "code",
   "execution_count": null,
   "metadata": {},
   "outputs": [],
   "source": []
  },
  {
   "cell_type": "markdown",
   "metadata": {
    "slideshow": {
     "slide_type": "subslide"
    }
   },
   "source": [
    "# Python 3 Style Formatted Printing\n",
    "* technically introduced before Python 3, but really adopted in Python 3\n",
    "* uses the __`.format()`__ string method and {} placeholders"
   ]
  },
  {
   "cell_type": "code",
   "execution_count": null,
   "metadata": {},
   "outputs": [],
   "source": [
    "num = 10000\n",
    "name = 'Bruce Lee'\n",
    "print('{} said \"I fear not the man who has practiced {} kicks once...\"'.format(name, num))"
   ]
  },
  {
   "cell_type": "code",
   "execution_count": null,
   "metadata": {},
   "outputs": [],
   "source": []
  },
  {
   "cell_type": "markdown",
   "metadata": {
    "slideshow": {
     "slide_type": "subslide"
    }
   },
   "source": [
    "# Python 3.6+ f-strings\n",
    "* f = formatted\n",
    "* arguably the cleanest solution\n",
    "* you should be familiar with all three methods as you are likely to encounter them in code\n",
    " * (there are in fact other methods, but these are the most common)"
   ]
  },
  {
   "cell_type": "code",
   "execution_count": null,
   "metadata": {},
   "outputs": [],
   "source": [
    "num = 10000\n",
    "name = 'Bruce Lee'\n",
    "print(f'{name} said \"I fear not the man who has practiced {num} kicks once...\"')"
   ]
  },
  {
   "cell_type": "markdown",
   "metadata": {
    "slideshow": {
     "slide_type": "slide"
    }
   },
   "source": [
    "# Numerics"
   ]
  },
  {
   "cell_type": "markdown",
   "metadata": {
    "slideshow": {
     "slide_type": "subslide"
    }
   },
   "source": [
    "# Integers\n",
    "* Python 2 had __`int`__ and __`long`__\n",
    " * Python 3 renamed __`long`__ to __`int`__\n",
    "* __`int / int`__ yielded an int in Python 2\n",
    " * use __`//`__ (floor division) operator to get the former truncating behavior"
   ]
  },
  {
   "cell_type": "code",
   "execution_count": null,
   "metadata": {},
   "outputs": [],
   "source": [
    "%%python2\n",
    "c = 2 ** 64\n",
    "print(c, type(c))"
   ]
  },
  {
   "cell_type": "code",
   "execution_count": null,
   "metadata": {},
   "outputs": [],
   "source": [
    "%%python2\n",
    "print 3 / 2 # int result\n",
    "print 3 / 2.0"
   ]
  },
  {
   "cell_type": "code",
   "execution_count": null,
   "metadata": {},
   "outputs": [],
   "source": []
  },
  {
   "cell_type": "markdown",
   "metadata": {
    "slideshow": {
     "slide_type": "subslide"
    }
   },
   "source": [
    "# Banker's Rounding\n",
    "* numbers which are equidistant from the two nearest integers are rounded to the nearest even integer\n",
    "* return type is now an int"
   ]
  },
  {
   "cell_type": "code",
   "execution_count": null,
   "metadata": {},
   "outputs": [],
   "source": [
    "%%python2\n",
    "print(round(2.5))"
   ]
  },
  {
   "cell_type": "code",
   "execution_count": null,
   "metadata": {},
   "outputs": [],
   "source": [
    "%%python2\n",
    "num1, num2, num3 = 2.5, 3.5, 4.5\n",
    "print(round(num1) + round(num2) + round(num3))\n",
    "print(num1 + num2 + num3)"
   ]
  },
  {
   "cell_type": "code",
   "execution_count": null,
   "metadata": {},
   "outputs": [],
   "source": [
    "print(round(2.5), round(3.5))"
   ]
  },
  {
   "cell_type": "code",
   "execution_count": null,
   "metadata": {},
   "outputs": [],
   "source": [
    "num1, num2, num3 = 2.5, 3.5, 4.5\n",
    "print(round(num1) + round(num2) + round(num3))\n",
    "print(num1 + num2 + num3)"
   ]
  },
  {
   "cell_type": "markdown",
   "metadata": {
    "slideshow": {
     "slide_type": "slide"
    }
   },
   "source": [
    "# __`raw_input()`__"
   ]
  },
  {
   "cell_type": "markdown",
   "metadata": {
    "slideshow": {
     "slide_type": "subslide"
    }
   },
   "source": [
    "# __`raw_input()`__\n",
    "* this poorly named function is now gone\n",
    "* it's now called __`input()`__\n",
    "* if you want the Python 2 meaning of __`input()`__, use __`eval(input())`__"
   ]
  },
  {
   "cell_type": "code",
   "execution_count": null,
   "metadata": {},
   "outputs": [],
   "source": [
    "%%bash\n",
    "cat py2.py\n",
    "echo\n",
    "echo Running py2.py via Python 2\n",
    "echo\n",
    "echo 'Bruce Lee' | python2 py2.py"
   ]
  },
  {
   "cell_type": "code",
   "execution_count": null,
   "metadata": {},
   "outputs": [],
   "source": [
    "name = input('Enter your name: ')\n",
    "print(name)"
   ]
  },
  {
   "cell_type": "markdown",
   "metadata": {
    "slideshow": {
     "slide_type": "slide"
    }
   },
   "source": [
    "# Unicode"
   ]
  },
  {
   "cell_type": "markdown",
   "metadata": {
    "slideshow": {
     "slide_type": "subslide"
    }
   },
   "source": [
    "# Unicode\n",
    "* \"information technology standard for the consistent encoding, representation, and handling of text expressed in most of the world's writing systems\"\n",
    "* Python 3 strings are Unicode by default\n",
    "* lots of details here that are beyond the scope for today\n",
    " * \"Text vs. Data Instead Of Unicode vs. 8-bit\""
   ]
  },
  {
   "cell_type": "code",
   "execution_count": null,
   "metadata": {},
   "outputs": [],
   "source": [
    "%%python2\n",
    "# -*- coding: iso-8859-1 -*-\n",
    "restaurant = 'The € Café'\n",
    "print(restaurant)\n",
    "print(restaurant[-1])"
   ]
  },
  {
   "cell_type": "code",
   "execution_count": null,
   "metadata": {},
   "outputs": [],
   "source": []
  },
  {
   "cell_type": "markdown",
   "metadata": {
    "slideshow": {
     "slide_type": "slide"
    }
   },
   "source": [
    "# __`xrange()`__ vs. __`range()`__"
   ]
  },
  {
   "cell_type": "markdown",
   "metadata": {
    "slideshow": {
     "slide_type": "subslide"
    }
   },
   "source": [
    "# __`xrange()`__\n",
    "* generated an _xrange_ object in Python 2, rather than an entire list\n",
    "* also poorly named (IMHO)\n",
    "* \"The advantage of the xrange type is that an xrange object will always take the same amount of memory, no matter the size of the range it represents. There are no consistent performance advantages.\"\n",
    "* we can list-ify a Python 3 range to get the Python 2 behavior"
   ]
  },
  {
   "cell_type": "code",
   "execution_count": null,
   "metadata": {},
   "outputs": [],
   "source": [
    "%%python2\n",
    "print(range(1, 100))\n",
    "print(xrange(1, 10))"
   ]
  },
  {
   "cell_type": "code",
   "execution_count": null,
   "metadata": {},
   "outputs": [],
   "source": []
  },
  {
   "cell_type": "markdown",
   "metadata": {
    "slideshow": {
     "slide_type": "slide"
    }
   },
   "source": [
    "# Comparisons"
   ]
  },
  {
   "cell_type": "markdown",
   "metadata": {
    "slideshow": {
     "slide_type": "subslide"
    }
   },
   "source": [
    "# Comparisons\n",
    "* comparison operators (<, <=, >=, >) no longer work when the operands don’t have a meaningful natural ordering\n",
    "* Corollary: sorting a heterogeneous list no longer makes sense–all elements must be comparable to each other"
   ]
  },
  {
   "cell_type": "code",
   "execution_count": null,
   "metadata": {},
   "outputs": [],
   "source": [
    "%%python2\n",
    "print(1 < None)\n",
    "print(sorted([1, 'foo', 2, 'bar']))"
   ]
  },
  {
   "cell_type": "code",
   "execution_count": null,
   "metadata": {},
   "outputs": [],
   "source": []
  },
  {
   "cell_type": "markdown",
   "metadata": {
    "slideshow": {
     "slide_type": "slide"
    }
   },
   "source": [
    "# View Objects"
   ]
  },
  {
   "cell_type": "markdown",
   "metadata": {
    "slideshow": {
     "slide_type": "subslide"
    }
   },
   "source": [
    "# dict methods __`.keys()`__, __`.items()`__ and __`.values()`__\n",
    "* return _view objects_ instead of lists\n",
    "* these are dynamic objects which change as the dict changes"
   ]
  },
  {
   "cell_type": "code",
   "execution_count": null,
   "metadata": {},
   "outputs": [],
   "source": [
    "%%python2\n",
    "sbux = { 'tall': 12, 'grande': 16, 'venti': 20 }\n",
    "print(sbux)"
   ]
  },
  {
   "cell_type": "code",
   "execution_count": null,
   "metadata": {},
   "outputs": [],
   "source": []
  },
  {
   "cell_type": "markdown",
   "metadata": {
    "slideshow": {
     "slide_type": "slide"
    }
   },
   "source": [
    "# Exceptions"
   ]
  },
  {
   "cell_type": "markdown",
   "metadata": {
    "slideshow": {
     "slide_type": "subslide"
    }
   },
   "source": [
    "# Raising Exceptions\n",
    "* Python 2 accepts both syntaxes\n",
    " * __`raise exception, message`__\n",
    " * __`raise exception(message)`__"
   ]
  },
  {
   "cell_type": "code",
   "execution_count": null,
   "metadata": {},
   "outputs": [],
   "source": [
    "%%python2\n",
    "try:\n",
    "    raise TypeError, 'int expected'\n",
    "except TypeError:\n",
    "    print 'caught!'\n",
    "    \n",
    "try:\n",
    "    raise ValueError('> 0 expected')\n",
    "except ValueError:\n",
    "    print 'caught!'"
   ]
  },
  {
   "cell_type": "code",
   "execution_count": null,
   "metadata": {},
   "outputs": [],
   "source": []
  },
  {
   "cell_type": "markdown",
   "metadata": {
    "slideshow": {
     "slide_type": "subslide"
    }
   },
   "source": [
    "# Handling Exceptions\n",
    "* __`as`__ keyword needed in Python 3"
   ]
  },
  {
   "cell_type": "code",
   "execution_count": null,
   "metadata": {},
   "outputs": [],
   "source": [
    "%%python2\n",
    "try:\n",
    "    raise TypeError, 'int expected'\n",
    "except TypeError, e:\n",
    "    print 'caught!', e\n",
    "    \n",
    "try:\n",
    "    raise TypeError, 'int expected'\n",
    "except TypeError as e:\n",
    "    print 'caught!', e"
   ]
  },
  {
   "cell_type": "code",
   "execution_count": null,
   "metadata": {},
   "outputs": [],
   "source": []
  },
  {
   "cell_type": "markdown",
   "metadata": {
    "slideshow": {
     "slide_type": "slide"
    }
   },
   "source": [
    "# Generator Changes"
   ]
  },
  {
   "cell_type": "markdown",
   "metadata": {
    "slideshow": {
     "slide_type": "subslide"
    }
   },
   "source": [
    "# __`next()`__ vs. __`.next()`__\n",
    "* both function and method worked in Python 2\n",
    "* only the function is allowed in Python 3"
   ]
  },
  {
   "cell_type": "code",
   "execution_count": null,
   "metadata": {},
   "outputs": [],
   "source": [
    "%%python2\n",
    "name = 'Python'\n",
    "generator = (char for char in name) # generator expression\n",
    "print generator.next()\n",
    "print next(generator)"
   ]
  },
  {
   "cell_type": "code",
   "execution_count": null,
   "metadata": {},
   "outputs": [],
   "source": []
  },
  {
   "cell_type": "markdown",
   "metadata": {
    "slideshow": {
     "slide_type": "subslide"
    }
   },
   "source": [
    "# __`for`__ Loop Variables No Longer Leak\n",
    "* in Python 2, __`for`__ loop vars in list comprehensions leaked into global namespace"
   ]
  },
  {
   "cell_type": "code",
   "execution_count": null,
   "metadata": {},
   "outputs": [],
   "source": [
    "%%python2\n",
    "i = 37\n",
    "nums = [i for i in range(100)\n",
    "           if i % 5]\n",
    "print nums\n",
    "print 'i is now', i"
   ]
  },
  {
   "cell_type": "code",
   "execution_count": null,
   "metadata": {},
   "outputs": [],
   "source": [
    "i = 37\n",
    "nums = [i for i in range(100)\n",
    "           if i % 5]\n",
    "print(nums)\n",
    "print('i is now', i)"
   ]
  },
  {
   "cell_type": "code",
   "execution_count": null,
   "metadata": {},
   "outputs": [],
   "source": []
  },
  {
   "cell_type": "markdown",
   "metadata": {
    "slideshow": {
     "slide_type": "slide"
    }
   },
   "source": [
    "# Classes"
   ]
  },
  {
   "cell_type": "markdown",
   "metadata": {
    "slideshow": {
     "slide_type": "subslide"
    }
   },
   "source": [
    "# Classes\n",
    "* classes were broken in Python 2\n",
    "* a fix was added in Python 2.2 which required an alteration in syntax\n",
    " * inherit from __`object`__\n",
    " * the new syntax gave us fixed, \"new style\" classes\n",
    "* Python 3 dispenses with old style classes, so __`object`__ not needed"
   ]
  },
  {
   "cell_type": "code",
   "execution_count": null,
   "metadata": {},
   "outputs": [],
   "source": [
    "%%python2\n",
    "class Person(object):\n",
    "    \"\"\"New-style class, as of Python 2.2\n",
    "    \n",
    "    If we had left out the object, we'd get the old-style classes which had\n",
    "    problems with multiple inheritance/MRO. (Details unimportant here.)\n",
    "    \"\"\"\n",
    "    pass\n",
    "\n",
    "p = Person()\n",
    "print(p)"
   ]
  },
  {
   "cell_type": "markdown",
   "metadata": {
    "slideshow": {
     "slide_type": "slide"
    }
   },
   "source": [
    "# Removed in Python 3\n",
    "* __`<>`__ operator\n",
    "* __\\`\\`__ (backquotes for __`repr`__)\n",
    "* __`raw_input()`__ function\n",
    "* trailing __`L`__ or __`l`__ (formerly for long ints)\n",
    "* __`from module import *`__ no longer support in functions\n",
    "* need for inheriting from __`object`__ when creating classes"
   ]
  },
  {
   "cell_type": "code",
   "execution_count": null,
   "metadata": {},
   "outputs": [],
   "source": [
    "%%python2\n",
    "print(2 <> 3)"
   ]
  },
  {
   "cell_type": "code",
   "execution_count": null,
   "metadata": {},
   "outputs": [],
   "source": [
    "%%python2\n",
    "import datetime\n",
    "now = datetime.datetime.now()\n",
    "print `now`"
   ]
  },
  {
   "cell_type": "code",
   "execution_count": null,
   "metadata": {},
   "outputs": [],
   "source": [
    "print(2 <> 3)"
   ]
  },
  {
   "cell_type": "markdown",
   "metadata": {
    "slideshow": {
     "slide_type": "slide"
    }
   },
   "source": [
    "# Added in Various Iterations of Python 3"
   ]
  },
  {
   "cell_type": "markdown",
   "metadata": {
    "slideshow": {
     "slide_type": "slide"
    }
   },
   "source": [
    "# Dictionaries retain their insertion order (and always will)\n",
    "* change occurred in Python 3.6\n",
    "* in Python 3.7 it was announced that this will always be the case\n",
    "* but you should continue to use __`OrderedDict`__ from __`collections`__ module"
   ]
  },
  {
   "cell_type": "code",
   "execution_count": null,
   "metadata": {},
   "outputs": [],
   "source": [
    "%%python2\n",
    "roman = { 'M': 1000, 'D': 500, 'C': 100, 'L': 50, 'X': 10, 'V': 5, 'I': 1 }\n",
    "print(roman)"
   ]
  },
  {
   "cell_type": "code",
   "execution_count": null,
   "metadata": {},
   "outputs": [],
   "source": []
  },
  {
   "cell_type": "markdown",
   "metadata": {
    "slideshow": {
     "slide_type": "slide"
    }
   },
   "source": [
    "# Underscores in numeric literals"
   ]
  },
  {
   "cell_type": "code",
   "execution_count": null,
   "metadata": {},
   "outputs": [],
   "source": []
  },
  {
   "cell_type": "markdown",
   "metadata": {
    "slideshow": {
     "slide_type": "slide"
    }
   },
   "source": [
    "# __`nonlocal`__\n",
    "* equivalent of __`global`__ statement but for enclosing blocks, rather than global scope"
   ]
  },
  {
   "cell_type": "code",
   "execution_count": null,
   "metadata": {},
   "outputs": [],
   "source": [
    "def outer_func():\n",
    "    e = 'enclosing var'\n",
    "    \n",
    "    def inner_func():\n",
    "        nonlocal e # refers to e at line 2\n",
    "        e += ' and changed by inner func'\n",
    "        \n",
    "    inner_func()\n",
    "    print(e)\n",
    "    \n",
    "outer_func()"
   ]
  },
  {
   "cell_type": "markdown",
   "metadata": {
    "slideshow": {
     "slide_type": "slide"
    }
   },
   "source": [
    "# Extended Iterable Unpacking\n",
    "* unpack operator (__`*`__ ) is more flexible"
   ]
  },
  {
   "cell_type": "code",
   "execution_count": null,
   "metadata": {},
   "outputs": [],
   "source": [
    "x, y, z, *rest = range(10)\n",
    "print(x, y, z, rest)"
   ]
  },
  {
   "cell_type": "code",
   "execution_count": null,
   "metadata": {},
   "outputs": [],
   "source": [
    "some_list = 'zero one two three four five'.split()\n",
    "x, *rest, y = some_list\n",
    "print(x, y, rest, sep='\\n')"
   ]
  },
  {
   "cell_type": "markdown",
   "metadata": {
    "slideshow": {
     "slide_type": "slide"
    }
   },
   "source": [
    "# Keyword-only and Positional-only Arguments"
   ]
  },
  {
   "cell_type": "markdown",
   "metadata": {
    "slideshow": {
     "slide_type": "subslide"
    }
   },
   "source": [
    "# __`*`__ and __`/`__ in function arguments\n",
    "* the __`*`__ allow you to specify __keyword-only__ keywords\n",
    "* the __`/`__ allows you to specify __positional-only__ args\n",
    "* normally "
   ]
  },
  {
   "cell_type": "code",
   "execution_count": null,
   "metadata": {},
   "outputs": [],
   "source": [
    "def f(x, y, z, *, foo, bar): # only keyword args follow the *\n",
    "    print(x, y, z)\n",
    "    print(foo, bar)"
   ]
  },
  {
   "cell_type": "code",
   "execution_count": null,
   "metadata": {},
   "outputs": [],
   "source": [
    "def f(x, y, z, /): # / means x, y, and z are positional ONLY, they cannot be passed by keyword\n",
    "    print(x, y, z)"
   ]
  },
  {
   "cell_type": "code",
   "execution_count": null,
   "metadata": {},
   "outputs": [],
   "source": []
  },
  {
   "cell_type": "markdown",
   "metadata": {
    "slideshow": {
     "slide_type": "slide"
    }
   },
   "source": [
    "# Type Annotation/Hinting"
   ]
  },
  {
   "cell_type": "markdown",
   "metadata": {
    "slideshow": {
     "slide_type": "subslide"
    }
   },
   "source": [
    "# Type Annotation/Hinting\n",
    "* Python 3.6 added the ability to inject type \"hints\" into the code\n",
    "* syntax was modified, but not the behavior (dynamic typing)\n",
    "* externals tools such as __`mypy`__ can be used to check for typing errors"
   ]
  },
  {
   "cell_type": "code",
   "execution_count": null,
   "metadata": {},
   "outputs": [],
   "source": [
    "# %load types.py\n",
    "x: int = 1\n",
    "# bunch of intervening code\n",
    "x = 1.5"
   ]
  },
  {
   "cell_type": "code",
   "execution_count": null,
   "metadata": {},
   "outputs": [],
   "source": []
  },
  {
   "cell_type": "markdown",
   "metadata": {
    "slideshow": {
     "slide_type": "slide"
    }
   },
   "source": [
    "# Assignment Expressions"
   ]
  },
  {
   "cell_type": "markdown",
   "metadata": {
    "slideshow": {
     "slide_type": "subslide"
    }
   },
   "source": [
    "# Assignment Expressions\n",
    "* also called the walrus operator, __`:=`__\n",
    "* enables you to assign values within an expression, i.e., the result of the assignment is itself an expression "
   ]
  },
  {
   "cell_type": "code",
   "execution_count": null,
   "metadata": {},
   "outputs": [],
   "source": [
    "a = list(range(11))\n",
    "\n",
    "if (n := len(a)) > 10:\n",
    "    print(f\"List is too long ({n} elements, expected <= 10)\")"
   ]
  },
  {
   "cell_type": "code",
   "execution_count": null,
   "metadata": {},
   "outputs": [],
   "source": []
  },
  {
   "cell_type": "markdown",
   "metadata": {
    "slideshow": {
     "slide_type": "slide"
    }
   },
   "source": [
    "# __`functools.lru_cache()`__\n",
    "* decorator for caching function results"
   ]
  },
  {
   "cell_type": "code",
   "execution_count": null,
   "metadata": {},
   "outputs": [],
   "source": [
    "from functools import lru_cache"
   ]
  },
  {
   "cell_type": "code",
   "execution_count": null,
   "metadata": {},
   "outputs": [],
   "source": []
  },
  {
   "cell_type": "markdown",
   "metadata": {
    "slideshow": {
     "slide_type": "slide"
    }
   },
   "source": [
    "# __`argparse`__"
   ]
  },
  {
   "cell_type": "markdown",
   "metadata": {
    "slideshow": {
     "slide_type": "subslide"
    }
   },
   "source": [
    "# __`argparse`__ module\n",
    "* for parsing command-line arguments to Python scripts\n",
    "* __`optparse`__ module now deprecated"
   ]
  },
  {
   "cell_type": "code",
   "execution_count": null,
   "metadata": {
    "slideshow": {
     "slide_type": "subslide"
    }
   },
   "outputs": [],
   "source": [
    "import argparse\n",
    "\n",
    "parser = argparse.ArgumentParser(description='argparse example')\n",
    "\n",
    "parser.add_argument('-a', action=\"store_true\",\n",
    "                    default=False)\n",
    "parser.add_argument('-b', action=\"store\", dest=\"b\")\n",
    "parser.add_argument('-c', action=\"store\", dest=\"c\",\n",
    "                    type=int)\n",
    "parser.add_argument('--version', action='version', \n",
    "                    version='%(prog)s 2.0')\n",
    "\n",
    "# parse args from command line, which won't work in the notebook\n",
    "#args = parser.parse_args()\n",
    "\n",
    "args = parser.parse_args(['--version'])\n",
    "\n",
    "print(args)\n",
    "\n",
    "if args.a:\n",
    "    print(\"-a was passed\")\n",
    "if args.blog:\n",
    "    print(\"-b\", args.blog, \"was passed\")\n",
    "if args.c:\n",
    "    print(\"-c\", args.c, \"was passed (int)\")"
   ]
  },
  {
   "cell_type": "code",
   "execution_count": null,
   "metadata": {},
   "outputs": [],
   "source": [
    "%run parse.py"
   ]
  },
  {
   "cell_type": "markdown",
   "metadata": {
    "slideshow": {
     "slide_type": "slide"
    }
   },
   "source": [
    "# Data Classes"
   ]
  },
  {
   "cell_type": "markdown",
   "metadata": {
    "slideshow": {
     "slide_type": "subslide"
    }
   },
   "source": [
    "# Data Classes\n",
    "* __`@dataclass`__ decorator\n",
    "* automatically creates a __init__ function\n",
    "* also adds a __repr__ method to display the object nicely\n",
    "* also adds __eq__, __le__, _gt__, __ge__, etc."
   ]
  },
  {
   "cell_type": "code",
   "execution_count": null,
   "metadata": {},
   "outputs": [],
   "source": [
    "from dataclasses import dataclass\n",
    "\n",
    "@dataclass\n",
    "class InventoryItem:\n",
    "    '''Class for keeping track of an item in inventory.'''\n",
    "    name: str\n",
    "    unit_price: float\n",
    "    quantity_on_hand: int = 0\n",
    "\n",
    "    def total_cost(self) -> float:\n",
    "        return self.unit_price * self.quantity_on_hand\n",
    "    \n",
    "    def __post_init__(self):\n",
    "        '''Optional: called after __init__ if it exist'''\n",
    "        print('post init!')"
   ]
  },
  {
   "cell_type": "code",
   "execution_count": null,
   "metadata": {},
   "outputs": [],
   "source": [
    "from dataclasses import asdict"
   ]
  },
  {
   "cell_type": "code",
   "execution_count": null,
   "metadata": {},
   "outputs": [],
   "source": []
  }
 ],
 "metadata": {
  "celltoolbar": "Slideshow",
  "kernelspec": {
   "display_name": "Python 3.8.2 64-bit",
   "language": "python",
   "name": "python38264bit9c848542ad714d12808af92d6e6dbb70"
  },
  "language_info": {
   "codemirror_mode": {
    "name": "ipython",
    "version": 3
   },
   "file_extension": ".py",
   "mimetype": "text/x-python",
   "name": "python",
   "nbconvert_exporter": "python",
   "pygments_lexer": "ipython3",
   "version": "3.8.2"
  }
 },
 "nbformat": 4,
 "nbformat_minor": 4
}
